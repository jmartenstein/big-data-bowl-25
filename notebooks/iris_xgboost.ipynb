{
 "cells": [
  {
   "cell_type": "markdown",
   "id": "6c491442-c3e6-4859-82bf-c959c0861a3d",
   "metadata": {
    "scrolled": true
   },
   "source": [
    "Exploring xgBoost with the Iris Dataset\n",
    "========================================\n",
    "\n",
    "This notebook has 2 purposes: first, provide a space to explore Jupyter notebooks. Second, learn about the xgBoost library through interacting with the petal dataset."
   ]
  },
  {
   "cell_type": "code",
   "execution_count": 102,
   "id": "21dfa163-d62e-4162-ac3d-12dc7cc8dcc0",
   "metadata": {},
   "outputs": [],
   "source": [
    "from xgboost import XGBClassifier\n",
    "\n",
    "import pandas as pd\n",
    "from sklearn import datasets\n",
    "from sklearn import model_selection\n",
    "from sklearn.metrics import confusion_matrix\n",
    "\n",
    "import seaborn as sns\n",
    "import matplotlib.pyplot as plt\n",
    "\n",
    "# Load the iris dataset\n",
    "iris = datasets.load_iris()\n",
    "\n",
    "# For ease of use, create a pandas daraframe for the iris data\n",
    "df_iris = pd.DataFrame(data=iris.data, columns=iris.feature_names)\n",
    "df_iris['target'] = iris.target"
   ]
  },
  {
   "cell_type": "code",
   "execution_count": 103,
   "id": "8ec44920-4f89-4a77-b758-5861ba72bd22",
   "metadata": {},
   "outputs": [
    {
     "name": "stdout",
     "output_type": "stream",
     "text": [
      "['sepal length (cm)' 'sepal width (cm)' 'petal length (cm)'\n",
      " 'petal width (cm)' 'target']\n"
     ]
    }
   ],
   "source": [
    "# print column headers, for debugging and understanding the shape of the dataset\n",
    "print(df_iris.columns.values)"
   ]
  },
  {
   "cell_type": "code",
   "execution_count": 104,
   "id": "729105df-aed6-431e-87f4-5e89b9aff0eb",
   "metadata": {},
   "outputs": [
    {
     "name": "stdout",
     "output_type": "stream",
     "text": [
      "(30, 4)\n"
     ]
    }
   ],
   "source": [
    "features = ['sepal length (cm)', 'sepal width (cm)', 'petal length (cm)','petal width (cm)']\n",
    "\n",
    "# split the data into train and test sections\n",
    "X_train, X_test, y_train, y_test = model_selection.train_test_split(df_iris[features], \n",
    "                                                                    df_iris['target'], \n",
    "                                                                    test_size = .2)\n",
    "\n",
    "# create the classifier model and then fit the model\n",
    "boost = XGBClassifier(n_estimators=2, max_depth=2, learning_rate=1, objective='binary:logistic')\n",
    "boost.fit(X_train, y_train)\n",
    "\n",
    "print(X_test.shape)"
   ]
  },
  {
   "cell_type": "code",
   "execution_count": 105,
   "id": "3a9ad482-7a60-48d6-a91e-12f102ff5099",
   "metadata": {},
   "outputs": [
    {
     "name": "stdout",
     "output_type": "stream",
     "text": [
      "[[14  0  0]\n",
      " [ 0  9  0]\n",
      " [ 0  0  7]]\n"
     ]
    }
   ],
   "source": [
    "# make predictions on the X_test dataset\n",
    "y_preds = boost.predict(X_test)\n",
    "\n",
    "# calculate the confusion matrix to understand the model accuracy\n",
    "cm = confusion_matrix(y_test, y_preds)\n",
    "\n",
    "# Print the confusion matrix\n",
    "print(cm)"
   ]
  },
  {
   "cell_type": "code",
   "execution_count": 106,
   "id": "8621565b-aefe-4320-8e6f-84b72c7881c0",
   "metadata": {},
   "outputs": [
    {
     "data": {
      "image/png": "[encoded data removed]",
      "text/plain": [
       "<Figure size 640x480 with 2 Axes>"
      ]
     },
     "metadata": {},
     "output_type": "display_data"
    }
   ],
   "source": [
    "sns.heatmap(cm, annot=True, fmt='d', cmap='Blues')\n",
    "\n",
    "plt.xlabel('Predicted Labels')\n",
    "plt.ylabel('True Labels')\n",
    "plt.title('Confusion Matrix')\n",
    "\n",
    "plt.show()"
   ]
  }
 ],
 "metadata": {
  "kernelspec": {
   "display_name": "Python 3 (ipykernel)",
   "language": "python",
   "name": "python3"
  },
  "language_info": {
   "codemirror_mode": {
    "name": "ipython",
    "version": 3
   },
   "file_extension": ".py",
   "mimetype": "text/x-python",
   "name": "python",
   "nbconvert_exporter": "python",
   "pygments_lexer": "ipython3",
   "version": "3.8.17"
  }
 },
 "nbformat": 4,
 "nbformat_minor": 5
}
