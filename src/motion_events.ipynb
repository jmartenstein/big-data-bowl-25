{
 "cells": [
  {
   "cell_type": "markdown",
   "id": "f2b372aa-b5dd-4e6c-9a20-fc9d7a79df20",
   "metadata": {},
   "source": [
    "Identifying Motion Events\n",
    "=========================\n",
    "\n",
    "The theme for this year's Big Data Bowl is predicting post-snap results by analyizing pre-snap behavior. One of the most clear ways to visualize movement is plotting **speed** over **time** between the line set and the ball snap. Mapping player velocity shows when players are making large or small motions across the field.\n",
    "\n",
    "This notebook outlines how motion events can be identified by setting thresholds for speed and time. If a player goes above speed *s* for time *t*, then that motion event can be isolated and analyzed for further patterns. Below is an example of the graph, with a speed threshold set at 1.7 yards per second and a time distance set at 1.0 seconds.\n",
    "\n",
    "![Motiom Event Example](https://github.com/jmartenstein/big-data-bowl-25/blob/main/figures/plot_speed.2022091102.488.png?raw=true)"
   ]
  },
  {
   "cell_type": "markdown",
   "id": "26fc2e5b-7789-4b0f-8354-c48b3dab8941",
   "metadata": {},
   "source": [
    "# Example Play: SF vs. CHI, Week 1\n",
    "\n",
    "Game Id: 2022091102\n",
    "Play Id: 488\n",
    "\n",
    "The play starts at with the Chicago Bears possessing the ball, on 3rd and 7 halfway through the 1st quarter. The defense is the first to make a significant motion, as Charles Omenihu moves from right to left, seemingly to cover TE Cole Kmet. David Montgomery moves off the line of scrimmage, back towards QB Justin Fields, setting up for a potential running play.\n",
    "\n",
    "Next, WR Darnell Mooney moves from far right towards the quarterback, and lines up between Kmet and WR Equanimeous St. Brown. Shortly after Mooney stops moving, Hufanga sees SOMETHING (maybe movement from Fields?) and starts to move back to better cover the coming pass. He doesn't seem to be moving to better cover any given receiver, but moving into a better zone for a pass up the middle.\n",
    "\n",
    "Hufanga's adjustment pays off when he intercepts the pass heading to Mooney."
   ]
  },
  {
   "cell_type": "markdown",
   "id": "b92efee1-89b4-49bd-93d7-1bb817fa5ce1",
   "metadata": {},
   "source": [
    "# Summarizing Motion Events by Position\n",
    "\n",
    "Once we have a list of motion events, we can dig into how different positions use motion. The breakdown below summarizes the motion events for the linebackers and defensive secondary (safeties and cornerbacks). We can see that both safeties and cornerbacks initiate the most motion events, which makes sense anecdoatally as they are adapting to offensive plays and covering receivers intiating their own motion events."
   ]
  },
  {
   "cell_type": "code",
   "execution_count": 43,
   "id": "27204093-ac66-4936-aa01-78dd4562e8fe",
   "metadata": {},
   "outputs": [],
   "source": [
    "# Set up Code\n",
    "\n",
    "import pandas as pd\n",
    "\n",
    "def summarize_positions( row ):\n",
    "\n",
    "    #pos = row[\"position\"]\n",
    "    summary_hash = {\n",
    "        'CB':  'Cornerbacks',\n",
    "        'SS':  'Safeties',\n",
    "        'FS':  'Safeties',\n",
    "        'ILB': 'Linebackers',\n",
    "        'OLB': 'Linebackers',\n",
    "        'MLB': 'Linebackers',\n",
    "        'LB':  'Linebackers'\n",
    "    }\n",
    "    try:\n",
    "        pos_summary = summary_hash[ row[ \"position\" ] ]\n",
    "    except:\n",
    "        pos_summary = \"Other\"\n",
    "\n",
    "    return pos_summary"
   ]
  },
  {
   "cell_type": "code",
   "execution_count": 44,
   "id": "739b35f0-8081-491b-ae68-b439cc705f90",
   "metadata": {},
   "outputs": [
    {
     "data": {
      "text/plain": [
       "Defense Positions\n",
       "Safeties       670\n",
       "Cornerbacks    543\n",
       "Linebackers    272\n",
       "Name: count, dtype: int64"
      ]
     },
     "execution_count": 44,
     "metadata": {},
     "output_type": "execute_result"
    }
   ],
   "source": [
    "motion_filename = \"../data/processed/motion.20250105.192330.csv\"\n",
    "df_motion = pd.read_csv(motion_filename)\n",
    "\n",
    "col_name = 'Defense Positions'\n",
    "\n",
    "# group the positions\n",
    "df_motion[col_name] = df_motion.apply(summarize_positions, axis=1)\n",
    "df_motion = df_motion[ df_motion[ col_name ] != \"Other\" ]\n",
    "\n",
    "df_motion[col_name].value_counts()"
   ]
  },
  {
   "cell_type": "markdown",
   "id": "aa756092-3ff6-4209-88ab-9cf30f423973",
   "metadata": {},
   "source": [
    "# Analyizing Motion Direction\n",
    "\n",
    "Knowing that safeties, cornerbacks and and linebackers have such a high number of motion events, we can do further analysis on what direction each position is moving in. The motion analysis file summarizes the cardinal direction each player is moving in, as laid out in the Big Data Bowl data description. Directions \"up\" and \"down\" describe the player moving along the y axis, across the line of scrimmage. Directions \"left\" and \"right\" describe moving towards or away from the line of scrimmage.\n",
    "\n",
    "For the purposes of this notebook, we aren't normalizing the direction on each play. Understanding the break down of the motions in cardineal directions is sufficient for this analysis."
   ]
  },
  {
   "cell_type": "markdown",
   "id": "59bd2a22-6197-48b8-9e03-9f930dd96506",
   "metadata": {},
   "source": [
    "## Safeties\n",
    "\n",
    "Analysis of week 4 data shows us that the safeties move in all four directions during pre-snap motions. Safeties typically cover both offensive passing plays and running plays. Therefore, it makes sense anecdotally that safeties would have the most versatile range of motion direction."
   ]
  },
  {
   "cell_type": "code",
   "execution_count": 45,
   "id": "67e89f65-f790-4eb9-8782-9d118bf78404",
   "metadata": {},
   "outputs": [
    {
     "data": {
      "text/plain": [
       "motionDir\n",
       "right    181\n",
       "up       166\n",
       "left     162\n",
       "down     161\n",
       "Name: count, dtype: int64"
      ]
     },
     "execution_count": 45,
     "metadata": {},
     "output_type": "execute_result"
    }
   ],
   "source": [
    "df_motion_cbs = df_motion[ df_motion[ \"Defense Positions\" ] == \"Safeties\" ]\n",
    "df_motion_cbs[ 'motionDir' ].value_counts()"
   ]
  },
  {
   "cell_type": "markdown",
   "id": "06ae3b76-9013-42cd-adaf-7eb359d763ea",
   "metadata": {},
   "source": [
    "## Cornerbacks\n",
    "\n",
    "Because cornerbacks are primarily covering receivers in motion, we can see that they typlically move up and down, along the line of scrimmage, rather than left and right."
   ]
  },
  {
   "cell_type": "code",
   "execution_count": 46,
   "id": "fb5606ee-b1c6-4985-b814-372fadfe8b5c",
   "metadata": {},
   "outputs": [
    {
     "data": {
      "text/plain": [
       "motionDir\n",
       "up       212\n",
       "down     202\n",
       "left      66\n",
       "right     63\n",
       "Name: count, dtype: int64"
      ]
     },
     "execution_count": 46,
     "metadata": {},
     "output_type": "execute_result"
    }
   ],
   "source": [
    "df_motion_cbs = df_motion[ df_motion[ \"Defense Positions\" ] == \"Cornerbacks\" ]\n",
    "df_motion_cbs[ 'motionDir' ].value_counts()"
   ]
  },
  {
   "cell_type": "markdown",
   "id": "467fec93-29e3-4249-b453-05b714fe1642",
   "metadata": {},
   "source": [
    "# Conclusion\n",
    "\n",
    "Mapping speed over time gives some deep insights into motion patterns before the snap, but clearly there are gaps. Once we have identified motion events, as described above, we can dig deeper into how those motion events can be measured for tracking the ability of a defender to read a pass or run play.\n",
    "\n",
    "This notebook only lays out a framework for analyizing events. Further analysis and work could be done by applying a machine learning algorithm against the data to glean more patterns."
   ]
  },
  {
   "cell_type": "markdown",
   "id": "4b791822-793f-4c3f-9211-d2a7a75ba85f",
   "metadata": {},
   "source": [
    "# Code\n",
    "\n",
    "All code for this notebook is in the [jmartenstein/big-data-bowl-25](https://github.com/jmartenstein/big-data-bowl-25/tree/main) Github repository."
   ]
  }
 ],
 "metadata": {
  "kernelspec": {
   "display_name": "Python 3 (ipykernel)",
   "language": "python",
   "name": "python3"
  },
  "language_info": {
   "codemirror_mode": {
    "name": "ipython",
    "version": 3
   },
   "file_extension": ".py",
   "mimetype": "text/x-python",
   "name": "python",
   "nbconvert_exporter": "python",
   "pygments_lexer": "ipython3",
   "version": "3.8.17"
  }
 },
 "nbformat": 4,
 "nbformat_minor": 5
}
