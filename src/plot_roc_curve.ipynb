{
 "cells": [
  {
   "cell_type": "markdown",
   "id": "8d62fa9c-e17f-403b-88c5-b62eac900e48",
   "metadata": {},
   "source": [
    "Validating Defensive Pass Reads\n",
    "===============================\n",
    "\n",
    "Can analytics predict the actions of the offense by analyzing the pre-snap motion of the defense? \n",
    "\n",
    "This notebook will explore the validity of predicting the pass by observing motions from the defense, especially linebackers, safeties and cornerbacks. While the defensive line (tackles and ends) tend to cover the area immediately closest to the football, the linebackers and the secondary show the most variability and versatility in responding to different potential offensive plays. Thus, we can measure their movements to get an idea of what the defense _thinks_ the offense will do.\n",
    "\n",
    "This notebook uses 5-fold cross-validation by mapping the false positive rate (FPR) againt the true positive rate (TPR) to show variance of the [Receiver Operating Curve (ROC)](https://scikit-learn.org/stable/auto_examples/model_selection/plot_roc_crossval.html). By analyizing different subsets of the motion event data, this model can calculate the average Area Under Curve (AUC), to give an idea of how well defensive motion events and alignments act as indicators for what the offense will do."
   ]
  },
  {
   "cell_type": "markdown",
   "id": "d8316b02-1869-4278-8f61-ac35c38e504f",
   "metadata": {},
   "source": [
    "# Load Week 4 Data\n",
    "\n",
    "In the interest of iterating quickly, this initial notebook isolates motion events for only Week 4. Once the model, thresholds and features have been tuned, the data for this notebook can be expanded to include data from Weeks 1 through 6. Weeks 7 through 8 will be used for validating the final model, and week 9 will be used for final training."
   ]
  },
  {
   "cell_type": "code",
   "execution_count": 33,
   "id": "8fd89d4b-bec0-4711-8892-bf3ac194eadf",
   "metadata": {},
   "outputs": [
    {
     "name": "stdout",
     "output_type": "stream",
     "text": [
      "Reading file: \"../data/processed/motion.week4.20250102.222806.csv\"\n",
      "Found 10021 motion events in 1735 plays from 16 game(s)\n"
     ]
    }
   ],
   "source": [
    "import pandas as pd\n",
    "import analyze_play as ap\n",
    "\n",
    "import glob\n",
    "\n",
    "motion_filename  = f\"../{ap.PROCESSED_DATA_DIR}/motion.week4.2025*\"\n",
    "plays_filename   = f\"../{ap.RAW_DATA_DIR}/plays.csv\"\n",
    "\n",
    "motion_files_found = glob.glob(motion_filename)\n",
    "if len(motion_files_found) > 1:\n",
    "    print(f\"ERROR: Motion file {motion_filename} is not specific enough; \" \\\n",
    "          f\"found {len(motion_files_found)} files\")\n",
    "    sys.exit(1)\n",
    "\n",
    "df_motion = pd.read_csv(motion_files_found[0])\n",
    "\n",
    "df_motion[\"game.play\"] = df_motion.agg('{0[gameId]}.{0[playId]}'.format, axis = 1)\n",
    "\n",
    "list_plays = df_motion[\"game.play\"].unique()\n",
    "list_games = df_motion[\"gameId\"].unique()\n",
    "\n",
    "print(f\"Reading file: \\\"{motion_files_found[0]}\\\"\")\n",
    "print(f\"Found {len(df_motion)} motion events in {len(list_plays)} plays from {len(list_games)} game(s)\")"
   ]
  },
  {
   "cell_type": "markdown",
   "id": "373cddae-9432-4934-87e8-f2eb01d69ef9",
   "metadata": {},
   "source": [
    "# Load Play Result Data\n",
    "\n",
    "Load the play data, as provided by the NFL Big Data Bowl dataset"
   ]
  },
  {
   "cell_type": "code",
   "execution_count": 34,
   "id": "680ca99c-57bf-4a78-ad70-baec6fb6806c",
   "metadata": {},
   "outputs": [
    {
     "name": "stdout",
     "output_type": "stream",
     "text": [
      "Reading file: \"../data/kaggle/plays.csv\"\n",
      "Found 1830 plays from 16 game(s)\n"
     ]
    }
   ],
   "source": [
    "df_plays  = pd.read_csv(plays_filename)\n",
    "\n",
    "df_focused = df_plays[ df_plays[ \"gameId\" ].isin( list_games ) ]\n",
    "print(f\"Reading file: \\\"{plays_filename}\\\"\")\n",
    "print(f\"Found {len(df_focused)} plays from {len(list_games)} game(s)\")"
   ]
  },
  {
   "cell_type": "markdown",
   "id": "05420453-8baa-4b56-ad68-a1e786e0f999",
   "metadata": {},
   "source": [
    " # Merge Motion Events with Play Results"
   ]
  },
  {
   "cell_type": "code",
   "execution_count": 35,
   "id": "a4d72b59-d51d-4aec-9d7b-36649548561c",
   "metadata": {},
   "outputs": [
    {
     "name": "stdout",
     "output_type": "stream",
     "text": [
      "Merged data shape: (10021, 67)\n",
      "Found 1735 total plays from merged data\n"
     ]
    }
   ],
   "source": [
    "df_merged = df_motion.merge( df_plays, on=[ 'gameId', 'playId' ] )\n",
    "\n",
    "list_merged_plays = df_merged[\"game.play\"].unique()\n",
    "\n",
    "print(f\"Merged data shape: {df_merged.shape}\")\n",
    "print(f\"Found {len(list_merged_plays)} total plays from merged data\")"
   ]
  },
  {
   "cell_type": "markdown",
   "id": "4d61a3ae-e55d-488b-ac1c-b9abcd6d522b",
   "metadata": {},
   "source": [
    "# ROC Analysis\n",
    "\n",
    "There are 2 columns in our data to explore: \"motionDirRelativetoScrimmage\" and \"isDropback\". The first value tells us whether the player was moving towards the line of scrimmage (forward), or away (back). To calculate the probability of any given motion event to predict the pass, we will convert the motion direction to \"1\" if the player is moving back, and to 0 if there's any other value in the column.\n",
    "\n",
    "In the play result data, we use the \"isDropback\" column to determine if a Quarterback intends to pass on the play. And, like the column described above, its data is not in integers, so it will need to be converted."
   ]
  },
  {
   "cell_type": "markdown",
   "id": "11d349b5-6854-404d-ad94-7724f891708c",
   "metadata": {},
   "source": [
    "## Functions\n",
    "\n"
   ]
  },
  {
   "cell_type": "code",
   "execution_count": 36,
   "id": "93cc2014-57ab-48b3-a918-875ad570187a",
   "metadata": {},
   "outputs": [],
   "source": [
    "def convert_motiondir_to_int( df_row ):\n",
    "\n",
    "    if (df_row[ \"motionDirRelativeToScrimmage\" ] == \"back\"):\n",
    "        return 1\n",
    "    else:\n",
    "        return 0\n",
    "\n",
    "def convert_isdropback_to_int( df_row ):\n",
    "    if (df_row[\"isDropback\"]):\n",
    "        return 1\n",
    "    else:\n",
    "        return 0"
   ]
  },
  {
   "cell_type": "markdown",
   "id": "3b2b9495-6af3-412a-9c7c-d3a3de9ad822",
   "metadata": {},
   "source": [
    "## Plot the Curve"
   ]
  },
  {
   "cell_type": "code",
   "execution_count": 37,
   "id": "5be144f6-5cf1-4f13-89cb-7d885b9e273c",
   "metadata": {},
   "outputs": [
    {
     "name": "stdout",
     "output_type": "stream",
     "text": [
      "Player has 61 motion events\n",
      "Area Under Curve: 0.6241258741258742\n"
     ]
    }
   ],
   "source": [
    "import matplotlib.pyplot as plt\n",
    "import numpy as np\n",
    "\n",
    "from sklearn.model_selection import train_test_split\n",
    "from sklearn.linear_model import LogisticRegression\n",
    "from sklearn.metrics import roc_curve, auc, roc_auc_score\n",
    "\n",
    "df_player = df_merged[ df_merged[ 'nflId' ] == 44925 ]\n",
    "\n",
    "test = df_player.apply(convert_motiondir_to_int, axis = 1)\n",
    "pred = df_player.apply(convert_isdropback_to_int, axis = 1)\n",
    "\n",
    "#print(test)\n",
    "\n",
    "fpr, tpr, roc_auc = {}, {}, {}\n",
    "\n",
    "for i in range(2):\n",
    "    fpr[i], tpr[i], _ = roc_curve(test, pred)\n",
    "    roc_auc[i] = auc(fpr[i], tpr[i])\n",
    "    \n",
    "print(f\"Player has {len(df_player)} motion events\")\n",
    "print(f\"Area Under Curve: {roc_auc_score(test, pred)}\")"
   ]
  },
  {
   "cell_type": "code",
   "execution_count": 38,
   "id": "4b7217de-53ba-43da-9ef8-6710cbd77b40",
   "metadata": {},
   "outputs": [
    {
     "data": {
      "image/png": "[encoded data removed]",
      "text/plain": [
       "<Figure size 640x480 with 1 Axes>"
      ]
     },
     "metadata": {},
     "output_type": "display_data"
    }
   ],
   "source": [
    "plt.figure()\n",
    "\n",
    "plt.plot(fpr[1], tpr[1])\n",
    "plt.xlim([0.0, 1.0])\n",
    "plt.ylim([0.0, 1.05])\n",
    "plt.xlabel('False Positive Rate')\n",
    "plt.ylabel('True Positive Rate')\n",
    "\n",
    "plt.title('Receiver Operating Characteristic')\n",
    "plt.show()"
   ]
  }
 ],
 "metadata": {
  "kernelspec": {
   "display_name": "Python 3 (ipykernel)",
   "language": "python",
   "name": "python3"
  },
  "language_info": {
   "codemirror_mode": {
    "name": "ipython",
    "version": 3
   },
   "file_extension": ".py",
   "mimetype": "text/x-python",
   "name": "python",
   "nbconvert_exporter": "python",
   "pygments_lexer": "ipython3",
   "version": "3.8.17"
  }
 },
 "nbformat": 4,
 "nbformat_minor": 5
}
